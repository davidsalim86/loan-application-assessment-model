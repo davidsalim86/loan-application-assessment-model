{
 "cells": [
  {
   "cell_type": "markdown",
   "metadata": {},
   "source": [
    "# ML model comparison\n",
    "\n",
    "###### This process compares all the machine learning models by evaluating model accuracy scores. To determmine the best model to use in our project, the group had to test different machine learning algorithms and adjust all parameters to best suit the model after tuning."
   ]
  },
  {
   "cell_type": "code",
   "execution_count": 2,
   "metadata": {},
   "outputs": [
    {
     "data": {
      "text/html": [
       "<div>\n",
       "<style scoped>\n",
       "    .dataframe tbody tr th:only-of-type {\n",
       "        vertical-align: middle;\n",
       "    }\n",
       "\n",
       "    .dataframe tbody tr th {\n",
       "        vertical-align: top;\n",
       "    }\n",
       "\n",
       "    .dataframe thead th {\n",
       "        text-align: right;\n",
       "    }\n",
       "</style>\n",
       "<table border=\"1\" class=\"dataframe\">\n",
       "  <thead>\n",
       "    <tr style=\"text-align: right;\">\n",
       "      <th></th>\n",
       "      <th>BaslineName</th>\n",
       "      <th>Accuracy</th>\n",
       "      <th>Precision</th>\n",
       "      <th>MCC</th>\n",
       "      <th>PPV</th>\n",
       "      <th>NPV</th>\n",
       "      <th>Recall</th>\n",
       "      <th>F1</th>\n",
       "    </tr>\n",
       "  </thead>\n",
       "  <tbody>\n",
       "    <tr>\n",
       "      <th>0</th>\n",
       "      <td>ExtraTrees</td>\n",
       "      <td>0.877517</td>\n",
       "      <td>0.845161</td>\n",
       "      <td>0.459198</td>\n",
       "      <td>0.845161</td>\n",
       "      <td>0.879510</td>\n",
       "      <td>0.301704</td>\n",
       "      <td>0.444671</td>\n",
       "    </tr>\n",
       "    <tr>\n",
       "      <th>1</th>\n",
       "      <td>KNeighbors</td>\n",
       "      <td>0.843790</td>\n",
       "      <td>0.547445</td>\n",
       "      <td>0.278833</td>\n",
       "      <td>0.547445</td>\n",
       "      <td>0.864958</td>\n",
       "      <td>0.224551</td>\n",
       "      <td>0.318471</td>\n",
       "    </tr>\n",
       "    <tr>\n",
       "      <th>2</th>\n",
       "      <td>XGBoost</td>\n",
       "      <td>0.975780</td>\n",
       "      <td>0.984273</td>\n",
       "      <td>0.909103</td>\n",
       "      <td>0.984273</td>\n",
       "      <td>0.974366</td>\n",
       "      <td>0.864809</td>\n",
       "      <td>0.920682</td>\n",
       "    </tr>\n",
       "    <tr>\n",
       "      <th>3</th>\n",
       "      <td>DecisionTree</td>\n",
       "      <td>0.947144</td>\n",
       "      <td>0.829066</td>\n",
       "      <td>0.807897</td>\n",
       "      <td>0.829066</td>\n",
       "      <td>0.970757</td>\n",
       "      <td>0.850069</td>\n",
       "      <td>0.839436</td>\n",
       "    </tr>\n",
       "    <tr>\n",
       "      <th>4</th>\n",
       "      <td>RandomForest</td>\n",
       "      <td>0.927341</td>\n",
       "      <td>0.901371</td>\n",
       "      <td>0.711069</td>\n",
       "      <td>0.901371</td>\n",
       "      <td>0.930616</td>\n",
       "      <td>0.620912</td>\n",
       "      <td>0.735306</td>\n",
       "    </tr>\n",
       "    <tr>\n",
       "      <th>5</th>\n",
       "      <td>GradientBoosting</td>\n",
       "      <td>0.943999</td>\n",
       "      <td>0.974017</td>\n",
       "      <td>0.782602</td>\n",
       "      <td>0.974017</td>\n",
       "      <td>0.940199</td>\n",
       "      <td>0.673422</td>\n",
       "      <td>0.796296</td>\n",
       "    </tr>\n",
       "  </tbody>\n",
       "</table>\n",
       "</div>"
      ],
      "text/plain": [
       "        BaslineName  Accuracy  Precision       MCC       PPV       NPV  \\\n",
       "0        ExtraTrees  0.877517   0.845161  0.459198  0.845161  0.879510   \n",
       "1        KNeighbors  0.843790   0.547445  0.278833  0.547445  0.864958   \n",
       "2           XGBoost  0.975780   0.984273  0.909103  0.984273  0.974366   \n",
       "3      DecisionTree  0.947144   0.829066  0.807897  0.829066  0.970757   \n",
       "4      RandomForest  0.927341   0.901371  0.711069  0.901371  0.930616   \n",
       "5  GradientBoosting  0.943999   0.974017  0.782602  0.974017  0.940199   \n",
       "\n",
       "     Recall        F1  \n",
       "0  0.301704  0.444671  \n",
       "1  0.224551  0.318471  \n",
       "2  0.864809  0.920682  \n",
       "3  0.850069  0.839436  \n",
       "4  0.620912  0.735306  \n",
       "5  0.673422  0.796296  "
      ]
     },
     "execution_count": 2,
     "metadata": {},
     "output_type": "execute_result"
    }
   ],
   "source": [
    "# import dependencies\n",
    "import joblib\n",
    "import pandas as pd\n",
    "# load the model combine csv file\n",
    "combine = pd.read_csv('../etl/performance_matrix.csv')\n",
    "# display the machine learning models accuracies\n",
    "combine"
   ]
  },
  {
   "cell_type": "code",
   "execution_count": 3,
   "metadata": {},
   "outputs": [
    {
     "data": {
      "text/html": [
       "<div>\n",
       "<style scoped>\n",
       "    .dataframe tbody tr th:only-of-type {\n",
       "        vertical-align: middle;\n",
       "    }\n",
       "\n",
       "    .dataframe tbody tr th {\n",
       "        vertical-align: top;\n",
       "    }\n",
       "\n",
       "    .dataframe thead th {\n",
       "        text-align: right;\n",
       "    }\n",
       "</style>\n",
       "<table border=\"1\" class=\"dataframe\">\n",
       "  <thead>\n",
       "    <tr style=\"text-align: right;\">\n",
       "      <th></th>\n",
       "      <th>BaslineName</th>\n",
       "      <th>Accuracy</th>\n",
       "      <th>Precision</th>\n",
       "      <th>MCC</th>\n",
       "      <th>PPV</th>\n",
       "      <th>NPV</th>\n",
       "      <th>Recall</th>\n",
       "      <th>F1</th>\n",
       "    </tr>\n",
       "  </thead>\n",
       "  <tbody>\n",
       "    <tr>\n",
       "      <th>2</th>\n",
       "      <td>XGBoost</td>\n",
       "      <td>0.975780</td>\n",
       "      <td>0.984273</td>\n",
       "      <td>0.909103</td>\n",
       "      <td>0.984273</td>\n",
       "      <td>0.974366</td>\n",
       "      <td>0.864809</td>\n",
       "      <td>0.920682</td>\n",
       "    </tr>\n",
       "    <tr>\n",
       "      <th>3</th>\n",
       "      <td>DecisionTree</td>\n",
       "      <td>0.947144</td>\n",
       "      <td>0.829066</td>\n",
       "      <td>0.807897</td>\n",
       "      <td>0.829066</td>\n",
       "      <td>0.970757</td>\n",
       "      <td>0.850069</td>\n",
       "      <td>0.839436</td>\n",
       "    </tr>\n",
       "    <tr>\n",
       "      <th>5</th>\n",
       "      <td>GradientBoosting</td>\n",
       "      <td>0.943999</td>\n",
       "      <td>0.974017</td>\n",
       "      <td>0.782602</td>\n",
       "      <td>0.974017</td>\n",
       "      <td>0.940199</td>\n",
       "      <td>0.673422</td>\n",
       "      <td>0.796296</td>\n",
       "    </tr>\n",
       "  </tbody>\n",
       "</table>\n",
       "</div>"
      ],
      "text/plain": [
       "        BaslineName  Accuracy  Precision       MCC       PPV       NPV  \\\n",
       "2           XGBoost  0.975780   0.984273  0.909103  0.984273  0.974366   \n",
       "3      DecisionTree  0.947144   0.829066  0.807897  0.829066  0.970757   \n",
       "5  GradientBoosting  0.943999   0.974017  0.782602  0.974017  0.940199   \n",
       "\n",
       "     Recall        F1  \n",
       "2  0.864809  0.920682  \n",
       "3  0.850069  0.839436  \n",
       "5  0.673422  0.796296  "
      ]
     },
     "execution_count": 3,
     "metadata": {},
     "output_type": "execute_result"
    }
   ],
   "source": [
    "# select the top three machine learning models \n",
    "# the project used the most accurate model in predicting loan approval\n",
    "combine.nlargest(3, 'Accuracy')"
   ]
  },
  {
   "cell_type": "code",
   "execution_count": 4,
   "metadata": {},
   "outputs": [
    {
     "data": {
      "text/plain": [
       "Text(0.5, 1.0, 'Visual comparison of ML models used')"
      ]
     },
     "execution_count": 4,
     "metadata": {},
     "output_type": "execute_result"
    },
    {
     "data": {
      "image/png": "[encoded data removed]",
      "text/plain": [
       "<Figure size 432x288 with 1 Axes>"
      ]
     },
     "metadata": {},
     "output_type": "display_data"
    }
   ],
   "source": [
    "# visualize the model prediction accuracy\n",
    "import matplotlib.pyplot as plt\n",
    "plt.style.use('fivethirtyeight')\n",
    "\n",
    "plt.bar(combine['BaslineName'], height=combine['Accuracy'], edgecolor='crimson')\n",
    "plt.xlabel('machine learning model')\n",
    "plt.xticks(rotation=70)\n",
    "plt.ylabel('accuracy rate')\n",
    "plt.title('Visual comparison of ML models used')"
   ]
  },
  {
   "cell_type": "markdown",
   "metadata": {},
   "source": [
    "#### xgboost model was chosen by the group for its highest accuracy measure"
   ]
  }
 ],
 "metadata": {
  "kernelspec": {
   "display_name": "Python 3.6.13 ('PythonAdv2')",
   "language": "python",
   "name": "python3"
  },
  "language_info": {
   "codemirror_mode": {
    "name": "ipython",
    "version": 3
   },
   "file_extension": ".py",
   "mimetype": "text/x-python",
   "name": "python",
   "nbconvert_exporter": "python",
   "pygments_lexer": "ipython3",
   "version": "3.6.13"
  },
  "orig_nbformat": 4,
  "vscode": {
   "interpreter": {
    "hash": "936b1316dbb2a310ab1a1e05737c1da9bef71d5eedff621d143e0924a05f4e3b"
   }
  }
 },
 "nbformat": 4,
 "nbformat_minor": 2
}
