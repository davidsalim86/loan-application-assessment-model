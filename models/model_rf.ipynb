{
 "cells": [
  {
   "cell_type": "code",
   "execution_count": 1,
   "metadata": {},
   "outputs": [],
   "source": [
    "import pandas as pd\n",
    "import numpy as np\n",
    "import matplotlib.pyplot as plt\n",
    "import seaborn as sns\n",
    "from sklearn.model_selection import train_test_split\n",
    "from sklearn.preprocessing import StandardScaler\n",
    "from sklearn.ensemble import RandomForestClassifier\n",
    "from sklearn.metrics import classification_report,confusion_matrix\n",
    "from sklearn.model_selection import GridSearchCV\n",
    "import joblib"
   ]
  },
  {
   "cell_type": "code",
   "execution_count": 2,
   "metadata": {},
   "outputs": [
    {
     "data": {
      "text/html": [
       "<div>\n",
       "<style scoped>\n",
       "    .dataframe tbody tr th:only-of-type {\n",
       "        vertical-align: middle;\n",
       "    }\n",
       "\n",
       "    .dataframe tbody tr th {\n",
       "        vertical-align: top;\n",
       "    }\n",
       "\n",
       "    .dataframe thead th {\n",
       "        text-align: right;\n",
       "    }\n",
       "</style>\n",
       "<table border=\"1\" class=\"dataframe\">\n",
       "  <thead>\n",
       "    <tr style=\"text-align: right;\">\n",
       "      <th></th>\n",
       "      <th>ID</th>\n",
       "      <th>business_or_commercial</th>\n",
       "      <th>loan_amount</th>\n",
       "      <th>rate_of_interest</th>\n",
       "      <th>term</th>\n",
       "      <th>interest_only</th>\n",
       "      <th>property_value</th>\n",
       "      <th>income</th>\n",
       "      <th>credit_score</th>\n",
       "      <th>age</th>\n",
       "      <th>ltv</th>\n",
       "      <th>dtir1</th>\n",
       "      <th>status</th>\n",
       "    </tr>\n",
       "  </thead>\n",
       "  <tbody>\n",
       "    <tr>\n",
       "      <th>0</th>\n",
       "      <td>24890</td>\n",
       "      <td>1</td>\n",
       "      <td>116500.0</td>\n",
       "      <td>3.583333</td>\n",
       "      <td>360</td>\n",
       "      <td>1</td>\n",
       "      <td>118000.0</td>\n",
       "      <td>1740.0</td>\n",
       "      <td>758</td>\n",
       "      <td>0</td>\n",
       "      <td>98.728814</td>\n",
       "      <td>45.0</td>\n",
       "      <td>1</td>\n",
       "    </tr>\n",
       "    <tr>\n",
       "      <th>1</th>\n",
       "      <td>24891</td>\n",
       "      <td>1</td>\n",
       "      <td>406500.0</td>\n",
       "      <td>4.560000</td>\n",
       "      <td>360</td>\n",
       "      <td>1</td>\n",
       "      <td>508000.0</td>\n",
       "      <td>9480.0</td>\n",
       "      <td>834</td>\n",
       "      <td>1</td>\n",
       "      <td>80.019685</td>\n",
       "      <td>46.0</td>\n",
       "      <td>0</td>\n",
       "    </tr>\n",
       "    <tr>\n",
       "      <th>2</th>\n",
       "      <td>24892</td>\n",
       "      <td>1</td>\n",
       "      <td>456500.0</td>\n",
       "      <td>4.250000</td>\n",
       "      <td>360</td>\n",
       "      <td>1</td>\n",
       "      <td>658000.0</td>\n",
       "      <td>11880.0</td>\n",
       "      <td>587</td>\n",
       "      <td>2</td>\n",
       "      <td>69.376900</td>\n",
       "      <td>42.0</td>\n",
       "      <td>0</td>\n",
       "    </tr>\n",
       "    <tr>\n",
       "      <th>3</th>\n",
       "      <td>24893</td>\n",
       "      <td>1</td>\n",
       "      <td>696500.0</td>\n",
       "      <td>4.000000</td>\n",
       "      <td>360</td>\n",
       "      <td>1</td>\n",
       "      <td>758000.0</td>\n",
       "      <td>10440.0</td>\n",
       "      <td>602</td>\n",
       "      <td>0</td>\n",
       "      <td>91.886544</td>\n",
       "      <td>39.0</td>\n",
       "      <td>0</td>\n",
       "    </tr>\n",
       "    <tr>\n",
       "      <th>4</th>\n",
       "      <td>24894</td>\n",
       "      <td>1</td>\n",
       "      <td>706500.0</td>\n",
       "      <td>3.990000</td>\n",
       "      <td>360</td>\n",
       "      <td>1</td>\n",
       "      <td>1008000.0</td>\n",
       "      <td>10080.0</td>\n",
       "      <td>864</td>\n",
       "      <td>1</td>\n",
       "      <td>70.089286</td>\n",
       "      <td>40.0</td>\n",
       "      <td>0</td>\n",
       "    </tr>\n",
       "  </tbody>\n",
       "</table>\n",
       "</div>"
      ],
      "text/plain": [
       "      ID  business_or_commercial  loan_amount  rate_of_interest  term  \\\n",
       "0  24890                       1     116500.0          3.583333   360   \n",
       "1  24891                       1     406500.0          4.560000   360   \n",
       "2  24892                       1     456500.0          4.250000   360   \n",
       "3  24893                       1     696500.0          4.000000   360   \n",
       "4  24894                       1     706500.0          3.990000   360   \n",
       "\n",
       "   interest_only  property_value   income  credit_score  age        ltv  \\\n",
       "0              1        118000.0   1740.0           758    0  98.728814   \n",
       "1              1        508000.0   9480.0           834    1  80.019685   \n",
       "2              1        658000.0  11880.0           587    2  69.376900   \n",
       "3              1        758000.0  10440.0           602    0  91.886544   \n",
       "4              1       1008000.0  10080.0           864    1  70.089286   \n",
       "\n",
       "   dtir1  status  \n",
       "0   45.0       1  \n",
       "1   46.0       0  \n",
       "2   42.0       0  \n",
       "3   39.0       0  \n",
       "4   40.0       0  "
      ]
     },
     "execution_count": 2,
     "metadata": {},
     "output_type": "execute_result"
    }
   ],
   "source": [
    "df = pd.read_csv(\"../etl/Loan_Default_knn_final.csv\")\n",
    "df.head()"
   ]
  },
  {
   "cell_type": "markdown",
   "metadata": {},
   "source": [
    "## Split data to train vs test"
   ]
  },
  {
   "cell_type": "code",
   "execution_count": 3,
   "metadata": {},
   "outputs": [],
   "source": [
    "X = df.drop(['ID','status'], axis=1)\n",
    "y = df['status'].values.reshape(-1,1)\n",
    "X_train, X_test, y_train, y_test = train_test_split(X, y, random_state=42)"
   ]
  },
  {
   "cell_type": "markdown",
   "metadata": {},
   "source": [
    "## Scaling data"
   ]
  },
  {
   "cell_type": "code",
   "execution_count": 4,
   "metadata": {},
   "outputs": [],
   "source": [
    "X_scaler = StandardScaler().fit(X_train)\n",
    "X_train_scaled = X_scaler.transform(X_train)\n",
    "X_test_scaled = X_scaler.transform(X_test)"
   ]
  },
  {
   "cell_type": "code",
   "execution_count": 5,
   "metadata": {},
   "outputs": [
    {
     "data": {
      "text/plain": [
       "['X_scaler.sav']"
      ]
     },
     "execution_count": 5,
     "metadata": {},
     "output_type": "execute_result"
    }
   ],
   "source": [
    "filename = 'X_scaler.sav'\n",
    "joblib.dump(X_scaler, filename)"
   ]
  },
  {
   "cell_type": "markdown",
   "metadata": {},
   "source": [
    "## Train model"
   ]
  },
  {
   "cell_type": "code",
   "execution_count": 8,
   "metadata": {},
   "outputs": [
    {
     "data": {
      "text/plain": [
       "RandomForestClassifier(n_estimators=80)"
      ]
     },
     "execution_count": 8,
     "metadata": {},
     "output_type": "execute_result"
    }
   ],
   "source": [
    "model_rf = RandomForestClassifier(n_estimators=80)\n",
    "model_rf.fit(X_train_scaled, np.ravel(y_train))"
   ]
  },
  {
   "cell_type": "code",
   "execution_count": 9,
   "metadata": {},
   "outputs": [
    {
     "data": {
      "text/plain": [
       "['rf.sav']"
      ]
     },
     "execution_count": 9,
     "metadata": {},
     "output_type": "execute_result"
    }
   ],
   "source": [
    "filename = 'rf.sav'\n",
    "joblib.dump(model_rf, filename)"
   ]
  },
  {
   "cell_type": "markdown",
   "metadata": {},
   "source": [
    "## Performance matrix"
   ]
  },
  {
   "cell_type": "code",
   "execution_count": 10,
   "metadata": {},
   "outputs": [
    {
     "name": "stdout",
     "output_type": "stream",
     "text": [
      "Training Data Score: 0.9999600706749054\n",
      "Test Data Score: 0.932171413170425\n",
      "              precision    recall  f1-score   support\n",
      "\n",
      "           0       0.94      0.99      0.96     28008\n",
      "           1       0.91      0.64      0.75      5385\n",
      "\n",
      "    accuracy                           0.93     33393\n",
      "   macro avg       0.92      0.82      0.86     33393\n",
      "weighted avg       0.93      0.93      0.93     33393\n",
      "\n"
     ]
    }
   ],
   "source": [
    "predictions = model_rf.predict(X_test_scaled)\n",
    "print(f\"Training Data Score: {model_rf.score(X_train_scaled, y_train)}\")\n",
    "print(f\"Test Data Score: {model_rf.score(X_test_scaled, y_test)}\")\n",
    "print(classification_report(y_test,predictions))"
   ]
  },
  {
   "cell_type": "code",
   "execution_count": 11,
   "metadata": {},
   "outputs": [
    {
     "name": "stdout",
     "output_type": "stream",
     "text": [
      "              precision    recall  f1-score       support\n",
      "0              0.935333  0.987396  0.960660  28008.000000\n",
      "1              0.907737  0.644940  0.754098   5385.000000\n",
      "accuracy       0.932171  0.932171  0.932171      0.932171\n",
      "macro avg      0.921535  0.816168  0.857379  33393.000000\n",
      "weighted avg   0.930883  0.932171  0.927350  33393.000000\n"
     ]
    },
    {
     "data": {
      "image/png": "[encoded data removed]",
      "text/plain": [
       "<Figure size 432x288 with 2 Axes>"
      ]
     },
     "metadata": {
      "needs_background": "light"
     },
     "output_type": "display_data"
    }
   ],
   "source": [
    "target = ['Not Approve','Approve']\n",
    "\n",
    "ax= plt.subplot()\n",
    "cm = (confusion_matrix(y_test,predictions))\n",
    "sns.heatmap(cm, annot=True, ax = ax,cmap='Blues',fmt='g')\n",
    "\n",
    "# labels, title and ticks\n",
    "ax.set_title('Random Forest')\n",
    "ax.xaxis.set_ticklabels(target)\n",
    "ax.yaxis.set_ticklabels(target)\n",
    "\n",
    "report_rf = classification_report(y_test,predictions, output_dict=True)\n",
    "report_rf_df = pd.DataFrame(report_rf).transpose()\n",
    "print(report_rf_df)"
   ]
  },
  {
   "cell_type": "markdown",
   "metadata": {},
   "source": [
    "## Hyperparameter tuning"
   ]
  },
  {
   "cell_type": "code",
   "execution_count": 13,
   "metadata": {},
   "outputs": [],
   "source": [
    "# Create the GridSearchCV model\n",
    "param_grid = {\n",
    "    'max_features': [\"auto\",\"sqrt\"],\n",
    "    'n_estimators': [50, 80, 90]\n",
    "}\n",
    "grid = GridSearchCV(model_rf, param_grid, verbose=3)"
   ]
  },
  {
   "cell_type": "code",
   "execution_count": 14,
   "metadata": {},
   "outputs": [
    {
     "name": "stdout",
     "output_type": "stream",
     "text": [
      "Fitting 5 folds for each of 6 candidates, totalling 30 fits\n",
      "[CV 1/5] END max_features=auto, n_estimators=50;, score=0.928 total time=  17.8s\n",
      "[CV 2/5] END max_features=auto, n_estimators=50;, score=0.925 total time=  16.9s\n",
      "[CV 3/5] END max_features=auto, n_estimators=50;, score=0.924 total time=  16.9s\n",
      "[CV 4/5] END max_features=auto, n_estimators=50;, score=0.922 total time=  17.5s\n",
      "[CV 5/5] END max_features=auto, n_estimators=50;, score=0.924 total time=  17.8s\n",
      "[CV 1/5] END max_features=auto, n_estimators=80;, score=0.930 total time=  27.1s\n",
      "[CV 2/5] END max_features=auto, n_estimators=80;, score=0.924 total time=  27.2s\n",
      "[CV 3/5] END max_features=auto, n_estimators=80;, score=0.928 total time=  27.2s\n",
      "[CV 4/5] END max_features=auto, n_estimators=80;, score=0.928 total time=  27.4s\n",
      "[CV 5/5] END max_features=auto, n_estimators=80;, score=0.925 total time=  27.3s\n",
      "[CV 1/5] END max_features=auto, n_estimators=90;, score=0.930 total time=  30.3s\n",
      "[CV 2/5] END max_features=auto, n_estimators=90;, score=0.927 total time=  30.5s\n",
      "[CV 3/5] END max_features=auto, n_estimators=90;, score=0.926 total time=  31.6s\n",
      "[CV 4/5] END max_features=auto, n_estimators=90;, score=0.928 total time=  29.7s\n",
      "[CV 5/5] END max_features=auto, n_estimators=90;, score=0.923 total time=  30.5s\n",
      "[CV 1/5] END max_features=sqrt, n_estimators=50;, score=0.928 total time=  17.1s\n",
      "[CV 2/5] END max_features=sqrt, n_estimators=50;, score=0.925 total time=  16.3s\n",
      "[CV 3/5] END max_features=sqrt, n_estimators=50;, score=0.925 total time=  16.8s\n",
      "[CV 4/5] END max_features=sqrt, n_estimators=50;, score=0.927 total time=  16.6s\n",
      "[CV 5/5] END max_features=sqrt, n_estimators=50;, score=0.922 total time=  16.7s\n",
      "[CV 1/5] END max_features=sqrt, n_estimators=80;, score=0.927 total time=  27.6s\n",
      "[CV 2/5] END max_features=sqrt, n_estimators=80;, score=0.927 total time=  27.5s\n",
      "[CV 3/5] END max_features=sqrt, n_estimators=80;, score=0.926 total time=  26.7s\n",
      "[CV 4/5] END max_features=sqrt, n_estimators=80;, score=0.927 total time=  27.4s\n",
      "[CV 5/5] END max_features=sqrt, n_estimators=80;, score=0.926 total time=  27.3s\n",
      "[CV 1/5] END max_features=sqrt, n_estimators=90;, score=0.929 total time=  30.5s\n",
      "[CV 2/5] END max_features=sqrt, n_estimators=90;, score=0.923 total time=  30.5s\n",
      "[CV 3/5] END max_features=sqrt, n_estimators=90;, score=0.924 total time=  30.6s\n",
      "[CV 4/5] END max_features=sqrt, n_estimators=90;, score=0.927 total time=  30.7s\n",
      "[CV 5/5] END max_features=sqrt, n_estimators=90;, score=0.926 total time=  30.6s\n"
     ]
    },
    {
     "data": {
      "text/plain": [
       "GridSearchCV(estimator=RandomForestClassifier(n_estimators=80),\n",
       "             param_grid={'max_features': ['auto', 'sqrt'],\n",
       "                         'n_estimators': [50, 80, 90]},\n",
       "             verbose=3)"
      ]
     },
     "execution_count": 14,
     "metadata": {},
     "output_type": "execute_result"
    }
   ],
   "source": [
    "# Train the model with GridSearch\n",
    "grid.fit(X_train_scaled, np.ravel(y_train))"
   ]
  },
  {
   "cell_type": "code",
   "execution_count": 15,
   "metadata": {},
   "outputs": [
    {
     "name": "stdout",
     "output_type": "stream",
     "text": [
      "{'max_features': 'auto', 'n_estimators': 80}\n",
      "0.9270690869736198\n"
     ]
    }
   ],
   "source": [
    "print(grid.best_params_)\n",
    "print(grid.best_score_)"
   ]
  },
  {
   "cell_type": "code",
   "execution_count": 16,
   "metadata": {},
   "outputs": [
    {
     "data": {
      "text/plain": [
       "RandomForestClassifier(n_estimators=80)"
      ]
     },
     "execution_count": 16,
     "metadata": {},
     "output_type": "execute_result"
    }
   ],
   "source": [
    "model_rf_gridsearch = RandomForestClassifier(max_features='auto' ,n_estimators=80)\n",
    "model_rf_gridsearch.fit(X_train_scaled, np.ravel(y_train))"
   ]
  },
  {
   "cell_type": "markdown",
   "metadata": {},
   "source": [
    "## Performance matrix"
   ]
  },
  {
   "cell_type": "code",
   "execution_count": 17,
   "metadata": {},
   "outputs": [
    {
     "name": "stdout",
     "output_type": "stream",
     "text": [
      "Training Data Score: 0.9999500883436317\n",
      "Test Data Score: 0.9313928068756925\n",
      "              precision    recall  f1-score   support\n",
      "\n",
      "           0       0.93      0.99      0.96     28008\n",
      "           1       0.91      0.64      0.75      5385\n",
      "\n",
      "    accuracy                           0.93     33393\n",
      "   macro avg       0.92      0.81      0.86     33393\n",
      "weighted avg       0.93      0.93      0.93     33393\n",
      "\n"
     ]
    }
   ],
   "source": [
    "predictions2 = model_rf_gridsearch.predict(X_test_scaled)\n",
    "print(f\"Training Data Score: {model_rf_gridsearch.score(X_train_scaled, y_train)}\")\n",
    "print(f\"Test Data Score: {model_rf_gridsearch.score(X_test_scaled, y_test)}\")\n",
    "print(classification_report(y_test,predictions2))"
   ]
  },
  {
   "cell_type": "code",
   "execution_count": 18,
   "metadata": {},
   "outputs": [
    {
     "name": "stdout",
     "output_type": "stream",
     "text": [
      "              precision    recall  f1-score       support\n",
      "0              0.934717  0.987147  0.960217  28008.000000\n",
      "1              0.905611  0.641411  0.750951   5385.000000\n",
      "accuracy       0.931393  0.931393  0.931393      0.931393\n",
      "macro avg      0.920164  0.814279  0.855584  33393.000000\n",
      "weighted avg   0.930023  0.931393  0.926470  33393.000000\n"
     ]
    },
    {
     "data": {
      "image/png": "[encoded data removed]",
      "text/plain": [
       "<Figure size 432x288 with 2 Axes>"
      ]
     },
     "metadata": {
      "needs_background": "light"
     },
     "output_type": "display_data"
    }
   ],
   "source": [
    "target = ['Not Approve','Approve']\n",
    "\n",
    "ax= plt.subplot()\n",
    "cm = (confusion_matrix(y_test,predictions2))\n",
    "sns.heatmap(cm, annot=True, ax = ax,cmap='Blues',fmt='g')\n",
    "\n",
    "# labels, title and ticks\n",
    "ax.set_title('Random Forest')\n",
    "ax.xaxis.set_ticklabels(target)\n",
    "ax.yaxis.set_ticklabels(target)\n",
    "\n",
    "report_rf = classification_report(y_test, predictions2, output_dict=True)\n",
    "report_rf_df = pd.DataFrame(report_rf).transpose()\n",
    "print(report_rf_df)"
   ]
  },
  {
   "cell_type": "code",
   "execution_count": 19,
   "metadata": {},
   "outputs": [
    {
     "data": {
      "text/plain": [
       "['rf_gridsearch.sav']"
      ]
     },
     "execution_count": 19,
     "metadata": {},
     "output_type": "execute_result"
    }
   ],
   "source": [
    "filename = 'rf_gridsearch.sav'\n",
    "joblib.dump(model_rf_gridsearch, filename)"
   ]
  }
 ],
 "metadata": {
  "kernelspec": {
   "display_name": "Python 3.6.13 ('PythonAdv2')",
   "language": "python",
   "name": "python3"
  },
  "language_info": {
   "codemirror_mode": {
    "name": "ipython",
    "version": 3
   },
   "file_extension": ".py",
   "mimetype": "text/x-python",
   "name": "python",
   "nbconvert_exporter": "python",
   "pygments_lexer": "ipython3",
   "version": "3.6.13"
  },
  "orig_nbformat": 4,
  "vscode": {
   "interpreter": {
    "hash": "936b1316dbb2a310ab1a1e05737c1da9bef71d5eedff621d143e0924a05f4e3b"
   }
  }
 },
 "nbformat": 4,
 "nbformat_minor": 2
}
